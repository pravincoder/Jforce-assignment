{
  "nbformat": 4,
  "nbformat_minor": 0,
  "metadata": {
    "colab": {
      "provenance": [],
      "authorship_tag": "ABX9TyODkL0aMwvU7FOmQgY+UoxA",
      "include_colab_link": true
    },
    "kernelspec": {
      "name": "python3",
      "display_name": "Python 3"
    },
    "language_info": {
      "name": "python"
    }
  },
  "cells": [
    {
      "cell_type": "markdown",
      "metadata": {
        "id": "view-in-github",
        "colab_type": "text"
      },
      "source": [
        "<a href=\"https://colab.research.google.com/github/pravincoder/Jforce-assignment/blob/main/Jforce_assignment_1.ipynb\" target=\"_parent\"><img src=\"https://colab.research.google.com/assets/colab-badge.svg\" alt=\"Open In Colab\"/></a>"
      ]
    },
    {
      "cell_type": "markdown",
      "source": [
        "Assignment 1\n",
        "\n"
      ],
      "metadata": {
        "id": "pdNsB96EOXf9"
      }
    },
    {
      "cell_type": "code",
      "execution_count": 15,
      "metadata": {
        "colab": {
          "base_uri": "https://localhost:8080/"
        },
        "id": "cLW5gXtAIdCn",
        "outputId": "c322bc1b-dd6f-4033-a0e6-b88a1258a2e5"
      },
      "outputs": [
        {
          "output_type": "stream",
          "name": "stdout",
          "text": [
            "   Roll No Subject  Marks      Date\n",
            "0        1      DS     25  01-01-23\n",
            "1        1    Java     40  02-01-23\n",
            "2        2      DS     30  01-01-23\n",
            "3        2    Java     26  02-01-23\n",
            "4        1      DS     40  15-01-23\n",
            "5        2    Java     50  15-01-23\n"
          ]
        }
      ],
      "source": [
        "import pandas as pd\n",
        "raw_data = pd.read_csv('https://raw.githubusercontent.com/pravincoder/Jforce-assignment/refs/heads/main/assignment_1_data.csv')\n",
        "print(raw_data)"
      ]
    },
    {
      "cell_type": "code",
      "source": [
        "raw_data.columns"
      ],
      "metadata": {
        "colab": {
          "base_uri": "https://localhost:8080/"
        },
        "id": "SQAVfJwSKmgy",
        "outputId": "41593f37-f9e8-401a-be8d-631c4d4caba7"
      },
      "execution_count": 16,
      "outputs": [
        {
          "output_type": "execute_result",
          "data": {
            "text/plain": [
              "Index(['Roll No', 'Subject', 'Marks', 'Date'], dtype='object')"
            ]
          },
          "metadata": {},
          "execution_count": 16
        }
      ]
    },
    {
      "cell_type": "code",
      "source": [
        "# Create output df\n",
        "output_df = pd.DataFrame()\n",
        "# Get Unique subject and Roll no\n",
        "for roll_no in raw_data['Roll No'].unique():\n",
        "    for subject in raw_data['Subject'].unique():\n",
        "\n",
        "        # Get sorted Roll and and subject\n",
        "        temp_df = raw_data[(raw_data['Roll No'] == roll_no) & (raw_data['Subject'] == subject)]\n",
        "\n",
        "        temp_df = temp_df.sort_values(by='Date',ascending=True)\n",
        "        temp_df['Roll No'] = roll_no\n",
        "        temp_df['Subject'] = subject\n",
        "        # Store the last 3 marks and latest date\n",
        "        temp_df['M1'] = temp_df['Marks'].iloc[-1] if len(temp_df) > 0 else 0\n",
        "        temp_df['M2'] = temp_df['Marks'].iloc[-2] if len(temp_df) > 1 else 0\n",
        "        temp_df['M3'] = temp_df['Marks'].iloc[-3] if len(temp_df) > 2 else 0\n",
        "        temp_df['Date'] = temp_df['Date'].iloc[-1] if len(temp_df) > 0 else None\n",
        "        temp_df = temp_df[['Roll No', 'Subject', 'M1', 'M2', 'M3', 'Date']]\n",
        "\n",
        "\n",
        "        temp_df = temp_df.drop_duplicates()\n",
        "\n",
        "        output_df = pd.concat([output_df, temp_df],ignore_index=True)\n",
        "\n",
        "\n",
        "print(output_df)\n",
        "\n",
        "\n"
      ],
      "metadata": {
        "colab": {
          "base_uri": "https://localhost:8080/"
        },
        "id": "Y_QcHqugJ-DO",
        "outputId": "eb8cb0b7-bac8-42e4-dcb7-641c85df0b70"
      },
      "execution_count": 38,
      "outputs": [
        {
          "output_type": "stream",
          "name": "stdout",
          "text": [
            "   Roll No Subject  M1  M2  M3      Date\n",
            "0        1      DS  40  25   0  15-01-23\n",
            "1        1    Java  40   0   0  02-01-23\n",
            "2        2      DS  30   0   0  01-01-23\n",
            "3        2    Java  50  26   0  15-01-23\n"
          ]
        }
      ]
    }
  ]
}